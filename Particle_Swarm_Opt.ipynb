{
 "cells": [
  {
   "cell_type": "code",
   "execution_count": 24,
   "metadata": {},
   "outputs": [
    {
     "name": "stdout",
     "output_type": "stream",
     "text": [
      "best_x: [-1.09564896e-06  1.00000408e+00  6.83557307e-06] \n",
      " best_y: 6.456260003079517e-11\n"
     ]
    },
    {
     "data": {
      "image/png": "[encoded data removed]",
      "text/plain": [
       "<Figure size 432x288 with 1 Axes>"
      ]
     },
     "metadata": {
      "needs_background": "light"
     },
     "output_type": "display_data"
    }
   ],
   "source": [
    "import numpy as np\n",
    "from sko.SA import SA\n",
    "\n",
    "demo_func = lambda x: x[0] ** 2 + (x[1] - 1) ** 2 + x[2] ** 2\n",
    "\n",
    "sa = SA(func=demo_func, x0=[1, 1, 1], T_max=1, T_min=1e-9, L=1000, max_stay_counter=150)\n",
    "best_x, best_y = sa.run()\n",
    "print('best_x:', best_x, '\\n', 'best_y:', best_y)\n",
    "\n",
    "plt.plot(sa.generation_best_Y)\n",
    "plt.show()"
   ]
  },
  {
   "cell_type": "code",
   "execution_count": 21,
   "metadata": {},
   "outputs": [],
   "source": [
    "def schaffer(p):\n",
    "    x1, x2 = p\n",
    "    x = np.square(x1) + np.square(x2)\n",
    "    return 0.5 + (np.square(np.sin(x)) - 0.5) / np.square(1 + 0.001 * x)"
   ]
  },
  {
   "cell_type": "code",
   "execution_count": 4,
   "metadata": {},
   "outputs": [
    {
     "name": "stdout",
     "output_type": "stream",
     "text": [
      "best_x: [0. 0.] \n",
      " best_y: [0.]\n"
     ]
    }
   ],
   "source": [
    "from sko.GA import GA\n",
    "\n",
    "ga = GA(func=schaffer, n_dim=2, size_pop=50, max_iter=800, lb=[-1, -1], ub=[1, 1], precision=1)\n",
    "best_x, best_y = ga.run()\n",
    "print('best_x:', best_x, '\\n', 'best_y:', best_y)"
   ]
  },
  {
   "cell_type": "code",
   "execution_count": 32,
   "metadata": {},
   "outputs": [],
   "source": [
    "def demo_func(x):\n",
    "    x1, x2, x3 = x\n",
    "    return (x1 - 0.03) ** 2 + (x2 - 0.11) ** 2 + (x3 - 0.05) ** 2 + x1 * x2 + 2 * x2 * x3"
   ]
  },
  {
   "cell_type": "code",
   "execution_count": 39,
   "metadata": {},
   "outputs": [
    {
     "name": "stdout",
     "output_type": "stream",
     "text": [
      "best_x is  [ 0.52999999 -1.          1.04999999] \n",
      " best_y is -0.14789999999999992\n"
     ]
    },
    {
     "data": {
      "image/png": "[encoded data removed]",
      "text/plain": [
       "<Figure size 432x288 with 1 Axes>"
      ]
     },
     "metadata": {
      "needs_background": "light"
     },
     "output_type": "display_data"
    }
   ],
   "source": [
    "from sko.PSO import PSO\n",
    "\n",
    "pso = PSO(func=demo_func, dim=3, pop=40, max_iter=150, lb=[0, -1, 0], ub=[2, 2, 2], w=0.8, c1=0.5, c2=0.5)\n",
    "pso.run()\n",
    "print('best_x is ', pso.gbest_x, '\\n', 'best_y is', pso.gbest_y)\n",
    "\n",
    "import matplotlib.pyplot as plt\n",
    "plt.plot(pso.gbest_y_hist)\n",
    "plt.show()"
   ]
  },
  {
   "cell_type": "code",
   "execution_count": 38,
   "metadata": {},
   "outputs": [
    {
     "data": {
      "image/png": "[encoded data removed]",
      "text/plain": [
       "<Figure size 432x288 with 1 Axes>"
      ]
     },
     "metadata": {
      "needs_background": "light"
     },
     "output_type": "display_data"
    }
   ],
   "source": [
    "import matplotlib.pyplot as plt\n",
    "plt.plot(pso.gbest_y_hist)\n",
    "plt.show()"
   ]
  },
  {
   "cell_type": "code",
   "execution_count": 12,
   "metadata": {},
   "outputs": [],
   "source": [
    "def one_max(x):\n",
    "    sum = 0\n",
    "    for xi in x:\n",
    "        sum += xi\n",
    "    return sum"
   ]
  },
  {
   "cell_type": "code",
   "execution_count": 18,
   "metadata": {},
   "outputs": [
    {
     "name": "stdout",
     "output_type": "stream",
     "text": [
      "best_x: [-3231.87407565 -3933.24837866 -3490.7468257  -3202.3361996\n",
      " -2292.7359185  -2804.7342032  -3265.65465645 -3475.25919278\n",
      " -3526.90684129 -3351.85328021 -4643.91918167 -3191.90251974\n",
      " -4183.79598972 -3512.79739285 -4316.88174927 -3725.63532923\n",
      " -2908.27902008 -3988.75908202 -2934.21518785 -3332.55676609\n",
      " -3406.45882733 -3741.7816119  -4433.22140468 -3565.27345705\n",
      " -3520.69613912 -3263.43565185 -3266.53315614 -2973.35972715\n",
      " -3654.02783129 -3043.8961082  -3682.4577457  -3446.83535747\n",
      " -3465.20136059 -4035.36762243 -3384.98659216 -2809.98737582\n",
      " -3266.23355632 -4513.47736888 -4012.97968282 -3851.18011741\n",
      " -4068.33910682 -3449.52596256 -3441.57826404 -4509.36521661\n",
      " -2910.76202485 -3026.08492705 -2791.13530844 -4155.23880112\n",
      " -3886.52127936 -4325.16640853 -2916.98110653 -4034.17349758\n",
      " -2939.2838007  -3019.97349562 -4192.4801388  -3147.53878829\n",
      " -3267.89679388 -3576.69498934 -3395.99154159 -3535.87478293\n",
      " -3482.3004091  -3662.67471699 -3642.66249058 -3398.81062389\n",
      " -4449.04655544 -3894.2592768  -4202.39541981 -3504.01435708\n",
      " -3869.29556711 -4189.54992618 -3478.30790069 -3465.34949249\n",
      " -3913.16807824 -3157.92004184 -3620.81814832 -4962.50684491\n",
      " -3928.97852129 -4178.63128127 -3589.9401637  -3846.71605993\n",
      " -2647.98718706 -4073.12366123 -3231.69274905 -2962.72792078\n",
      " -3513.9792739  -4566.05716748 -2819.28885321 -3980.60008575\n",
      " -2856.80969631 -3632.03396076 -3013.53131604 -3411.89694463\n",
      " -2739.10256057 -4457.67609441 -3669.76741792 -3592.72391516\n",
      " -3042.93364389 -3355.52113378 -3247.95071428 -3277.48265848] \n",
      " best_y: -355772.32154980925\n"
     ]
    }
   ],
   "source": [
    "dimension = 100\n",
    "lowBound = np.zeros(dimension, int)\n",
    "upBound = np.ones(dimension, int)\n",
    "\n",
    "sa = SA(func=one_max, x0=lowBound, T_max=1, T_min=1e-9, L=300, max_stay_counter=150)\n",
    "best_x, best_y = sa.run()\n",
    "print('best_x:', best_x, '\\n', 'best_y:', best_y)"
   ]
  },
  {
   "cell_type": "code",
   "execution_count": null,
   "metadata": {},
   "outputs": [],
   "source": []
  }
 ],
 "metadata": {
  "kernelspec": {
   "display_name": "Python 3",
   "language": "python",
   "name": "python3"
  },
  "language_info": {
   "codemirror_mode": {
    "name": "ipython",
    "version": 3
   },
   "file_extension": ".py",
   "mimetype": "text/x-python",
   "name": "python",
   "nbconvert_exporter": "python",
   "pygments_lexer": "ipython3",
   "version": "3.7.6"
  }
 },
 "nbformat": 4,
 "nbformat_minor": 4
}
